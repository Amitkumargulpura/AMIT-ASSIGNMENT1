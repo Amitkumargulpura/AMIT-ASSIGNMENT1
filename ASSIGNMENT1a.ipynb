{
 "cells": [
  {
   "cell_type": "code",
   "execution_count": null,
   "id": "88294398-666c-4ad8-bb34-abbea791b4c4",
   "metadata": {},
   "outputs": [],
   "source": [
    "#Answer1\n",
    "#1(i)\n"
   ]
  },
  {
   "cell_type": "code",
   "execution_count": null,
   "id": "eda010c1-f1bf-4c3f-ba21-5bf565cb1a27",
   "metadata": {},
   "outputs": [],
   "source": [
    "a =\"Ramesh\""
   ]
  },
  {
   "cell_type": "code",
   "execution_count": 2,
   "id": "35df30b3-e4dd-4e42-866d-f276f9df6a53",
   "metadata": {},
   "outputs": [
    {
     "data": {
      "text/plain": [
       "str"
      ]
     },
     "execution_count": 2,
     "metadata": {},
     "output_type": "execute_result"
    }
   ],
   "source": [
    "type(a)"
   ]
  },
  {
   "cell_type": "code",
   "execution_count": 3,
   "id": "0afdae43-59e6-4dc8-9516-055a786f4e55",
   "metadata": {},
   "outputs": [],
   "source": [
    "#1(ii)"
   ]
  },
  {
   "cell_type": "code",
   "execution_count": 5,
   "id": "f58c46c6-d05d-4767-9996-0b6089739a94",
   "metadata": {},
   "outputs": [],
   "source": [
    "student_data =[\"ravi\",5,7,91.19]"
   ]
  },
  {
   "cell_type": "code",
   "execution_count": 6,
   "id": "1c170fc1-2122-4d72-a563-f797d49d6744",
   "metadata": {},
   "outputs": [
    {
     "data": {
      "text/plain": [
       "list"
      ]
     },
     "execution_count": 6,
     "metadata": {},
     "output_type": "execute_result"
    }
   ],
   "source": [
    "type(student_data)"
   ]
  },
  {
   "cell_type": "code",
   "execution_count": 8,
   "id": "4fd3fad4-fccf-4cee-b4dc-ce0467e64d1b",
   "metadata": {},
   "outputs": [],
   "source": [
    "#1(iii)"
   ]
  },
  {
   "cell_type": "code",
   "execution_count": 9,
   "id": "15c9fcd4-0420-40f6-a464-2b621a732956",
   "metadata": {},
   "outputs": [],
   "source": [
    "obtained_marks =91.17\n"
   ]
  },
  {
   "cell_type": "code",
   "execution_count": 11,
   "id": "8e80cd62-d566-4f49-9212-24a1412337a6",
   "metadata": {},
   "outputs": [
    {
     "data": {
      "text/plain": [
       "float"
      ]
     },
     "execution_count": 11,
     "metadata": {},
     "output_type": "execute_result"
    }
   ],
   "source": [
    "type(obtained_marks)"
   ]
  },
  {
   "cell_type": "code",
   "execution_count": 16,
   "id": "8794a04d-86b5-4c9f-812b-1aaecf94b50a",
   "metadata": {},
   "outputs": [],
   "source": [
    "player =(\"sachin\",\"ravish\",35,1000,134.23,\"out\")"
   ]
  },
  {
   "cell_type": "code",
   "execution_count": 18,
   "id": "714de164-06af-452c-b008-fbe8bf98d5e5",
   "metadata": {},
   "outputs": [
    {
     "data": {
      "text/plain": [
       "tuple"
      ]
     },
     "execution_count": 18,
     "metadata": {},
     "output_type": "execute_result"
    }
   ],
   "source": [
    "type(player)"
   ]
  },
  {
   "cell_type": "code",
   "execution_count": 19,
   "id": "042d0d5b-f3fa-4d5b-8921-8feb641c28b8",
   "metadata": {},
   "outputs": [],
   "source": [
    "#Answer2"
   ]
  },
  {
   "cell_type": "code",
   "execution_count": 20,
   "id": "ede39b81-ef26-448e-842f-38a9109b6ba3",
   "metadata": {},
   "outputs": [],
   "source": [
    "#2(i)"
   ]
  },
  {
   "cell_type": "code",
   "execution_count": 21,
   "id": "b417d011-d5fb-4ba9-a318-c411ad4c022b",
   "metadata": {},
   "outputs": [],
   "source": [
    "var1=''"
   ]
  },
  {
   "cell_type": "code",
   "execution_count": 23,
   "id": "31b68ecb-302f-4636-bf84-8892107842fb",
   "metadata": {},
   "outputs": [
    {
     "data": {
      "text/plain": [
       "str"
      ]
     },
     "execution_count": 23,
     "metadata": {},
     "output_type": "execute_result"
    }
   ],
   "source": [
    "type(var1)"
   ]
  },
  {
   "cell_type": "code",
   "execution_count": 25,
   "id": "6acdc890-c77b-4b7c-a42f-ae0687c25538",
   "metadata": {},
   "outputs": [],
   "source": [
    "#2(ii)"
   ]
  },
  {
   "cell_type": "code",
   "execution_count": 26,
   "id": "e849b0c9-f6c3-4909-9327-f03df60bff9f",
   "metadata": {},
   "outputs": [],
   "source": [
    "var2= '[DS,ML,Python]'"
   ]
  },
  {
   "cell_type": "code",
   "execution_count": 28,
   "id": "1435c3d1-2dd8-4a32-9def-23ca4b3bae49",
   "metadata": {},
   "outputs": [
    {
     "data": {
      "text/plain": [
       "str"
      ]
     },
     "execution_count": 28,
     "metadata": {},
     "output_type": "execute_result"
    }
   ],
   "source": [
    "type(var2)"
   ]
  },
  {
   "cell_type": "code",
   "execution_count": 29,
   "id": "07480408-1890-4af8-b278-7874f9783ca8",
   "metadata": {},
   "outputs": [],
   "source": [
    "#(iii)\n",
    "var3 =['DS','ML','Python']"
   ]
  },
  {
   "cell_type": "code",
   "execution_count": 30,
   "id": "93e29c2d-8b23-4d16-a7c8-72705e852700",
   "metadata": {},
   "outputs": [
    {
     "data": {
      "text/plain": [
       "list"
      ]
     },
     "execution_count": 30,
     "metadata": {},
     "output_type": "execute_result"
    }
   ],
   "source": [
    "type(var3)\n"
   ]
  },
  {
   "cell_type": "code",
   "execution_count": 32,
   "id": "44d91a58-5956-42f6-9827-0e02058cb74e",
   "metadata": {},
   "outputs": [],
   "source": [
    "#2(iv)\n",
    "var4= 1\n"
   ]
  },
  {
   "cell_type": "code",
   "execution_count": 34,
   "id": "9d98e75d-beb2-47a3-9c40-e583ce910c2d",
   "metadata": {},
   "outputs": [
    {
     "data": {
      "text/plain": [
       "int"
      ]
     },
     "execution_count": 34,
     "metadata": {},
     "output_type": "execute_result"
    }
   ],
   "source": [
    "type(var4)"
   ]
  },
  {
   "cell_type": "code",
   "execution_count": 35,
   "id": "91afb1f4-e3e1-480e-afb6-9440134fa32a",
   "metadata": {},
   "outputs": [],
   "source": [
    "#Answer3 "
   ]
  },
  {
   "cell_type": "code",
   "execution_count": 43,
   "id": "5a906e44-d602-4f36-9e08-e0b9b01da5a2",
   "metadata": {},
   "outputs": [
    {
     "data": {
      "text/plain": [
       "\"3(i) It is used to find quotient when we  divide a number by another number it \\nreturn two values one quotient and another one is remainder so here this operator '/' is used to find that quotient \""
      ]
     },
     "execution_count": 43,
     "metadata": {},
     "output_type": "execute_result"
    }
   ],
   "source": [
    "\"\"\"3(i) It is used to find quotient when we  divide a number by another number it \n",
    "return two values one quotient and another one is remainder so here this operator '/' is used to find that quotient \"\"\""
   ]
  },
  {
   "cell_type": "code",
   "execution_count": 40,
   "id": "876d0598-16e0-47f9-81d7-ebe4348c03ef",
   "metadata": {},
   "outputs": [],
   "source": [
    " num1 =15\n",
    "\n",
    "\n",
    "    "
   ]
  },
  {
   "cell_type": "code",
   "execution_count": 41,
   "id": "85ea6341-d327-485a-950d-94b008f17960",
   "metadata": {},
   "outputs": [],
   "source": [
    "num2 =3"
   ]
  },
  {
   "cell_type": "code",
   "execution_count": 46,
   "id": "8e785ec6-dbb8-4fee-9db4-b148a58d4b61",
   "metadata": {},
   "outputs": [
    {
     "name": "stdout",
     "output_type": "stream",
     "text": [
      "Quotient : 5.0\n"
     ]
    }
   ],
   "source": [
    "    quotient = num1 / num2\n",
    "    print(\"Quotient :\",quotient )"
   ]
  },
  {
   "cell_type": "code",
   "execution_count": 47,
   "id": "d37bfa98-c16e-4131-80ea-569861251a58",
   "metadata": {},
   "outputs": [],
   "source": [
    "#3(ii) "
   ]
  },
  {
   "cell_type": "code",
   "execution_count": 49,
   "id": "ab873e83-804c-47aa-bf49-c8e2adc16417",
   "metadata": {},
   "outputs": [
    {
     "data": {
      "text/plain": [
       "' \"%\"  it is a operator used to find remainder when any number is divided by any other number '"
      ]
     },
     "execution_count": 49,
     "metadata": {},
     "output_type": "execute_result"
    }
   ],
   "source": [
    "''' \"%\"  it is a operator used to find remainder when any number is divided by any other number ''' "
   ]
  },
  {
   "cell_type": "code",
   "execution_count": 50,
   "id": "45d541b5-d7c8-4709-8def-d66af0961d1b",
   "metadata": {},
   "outputs": [],
   "source": [
    "remainder = num1 %num2 "
   ]
  },
  {
   "cell_type": "code",
   "execution_count": 52,
   "id": "2bc65690-f7fd-42c9-8652-ab6d657a53fe",
   "metadata": {},
   "outputs": [
    {
     "name": "stdout",
     "output_type": "stream",
     "text": [
      "remainder : 0\n"
     ]
    }
   ],
   "source": [
    "print(\"remainder :\",remainder )"
   ]
  },
  {
   "cell_type": "code",
   "execution_count": 55,
   "id": "c7a7564d-ea90-433a-978f-606e8c990894",
   "metadata": {},
   "outputs": [],
   "source": [
    "#3(iii)\n"
   ]
  },
  {
   "cell_type": "code",
   "execution_count": null,
   "id": "e63ac71b-5c1e-433e-98aa-6670f5773968",
   "metadata": {},
   "outputs": [],
   "source": [
    "\"\"\"'//' it is a operator used to  take integer value after dividing  a number by another one \"\"\""
   ]
  },
  {
   "cell_type": "code",
   "execution_count": 57,
   "id": "23ab2f46-b852-4d77-9dcb-fc9715ca9adb",
   "metadata": {},
   "outputs": [
    {
     "name": "stdout",
     "output_type": "stream",
     "text": [
      "floor divsion  5\n"
     ]
    }
   ],
   "source": [
    " print(\"floor divsion \",num1 // num2 )"
   ]
  }
 ],
 "metadata": {
  "kernelspec": {
   "display_name": "Python 3 (ipykernel)",
   "language": "python",
   "name": "python3"
  },
  "language_info": {
   "codemirror_mode": {
    "name": "ipython",
    "version": 3
   },
   "file_extension": ".py",
   "mimetype": "text/x-python",
   "name": "python",
   "nbconvert_exporter": "python",
   "pygments_lexer": "ipython3",
   "version": "3.10.8"
  }
 },
 "nbformat": 4,
 "nbformat_minor": 5
}
