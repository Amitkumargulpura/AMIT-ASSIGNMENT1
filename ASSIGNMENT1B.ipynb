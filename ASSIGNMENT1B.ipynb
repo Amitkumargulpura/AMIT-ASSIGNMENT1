{
 "cells": [
  {
   "cell_type": "code",
   "execution_count": 2,
   "id": "37846571-4838-475b-996c-ebb54b9805f2",
   "metadata": {},
   "outputs": [
    {
     "data": {
      "text/plain": [
       "' ** is used to raise power of first and second number goes in power of first number example 3**2 = 9'"
      ]
     },
     "execution_count": 2,
     "metadata": {},
     "output_type": "execute_result"
    }
   ],
   "source": [
    "#3(iv) \n",
    "\"\"\" ** is used to raise power of first and second number goes in power of first number example 3**2 = 9\"\"\""
   ]
  },
  {
   "cell_type": "code",
   "execution_count": 25,
   "id": "ea0c0e5e-e87e-46f7-8c88-e3d150c38a19",
   "metadata": {},
   "outputs": [
    {
     "name": "stdout",
     "output_type": "stream",
     "text": [
      "num3:  9\n"
     ]
    }
   ],
   "source": [
    "num1 = 3\n",
    "num2 = 2\n",
    "print( \"num3: \", num1 ** num2)\n"
   ]
  },
  {
   "cell_type": "code",
   "execution_count": 26,
   "id": "b5ab96cb-2fba-4ad9-90a4-841173fe049c",
   "metadata": {},
   "outputs": [],
   "source": [
    "#4"
   ]
  },
  {
   "cell_type": "code",
   "execution_count": 5,
   "id": "f9d7cfed-4604-439e-95d7-880ffc856581",
   "metadata": {},
   "outputs": [],
   "source": [
    "student_list =['ram', 'sita',12,34,23.4,23,'bhim','sudh',True ,344.2333]"
   ]
  },
  {
   "cell_type": "code",
   "execution_count": 6,
   "id": "fd0cadcd-84d6-497d-ab15-48624629e1d9",
   "metadata": {},
   "outputs": [
    {
     "name": "stdout",
     "output_type": "stream",
     "text": [
      "ram\n",
      "<class 'str'>\n",
      "sita\n",
      "<class 'str'>\n",
      "12\n",
      "<class 'int'>\n",
      "34\n",
      "<class 'int'>\n",
      "23.4\n",
      "<class 'float'>\n",
      "23\n",
      "<class 'int'>\n",
      "bhim\n",
      "<class 'str'>\n",
      "sudh\n",
      "<class 'str'>\n",
      "True\n",
      "<class 'bool'>\n",
      "344.2333\n",
      "<class 'float'>\n"
     ]
    }
   ],
   "source": [
    "for i in student_list :\n",
    "    print(i)\n",
    "    print(type(i))\n",
    "    \n",
    "    \n",
    "    "
   ]
  },
  {
   "cell_type": "code",
   "execution_count": 16,
   "id": "b1841d53-d744-439e-a55a-4aec7af74359",
   "metadata": {},
   "outputs": [
    {
     "name": "stdout",
     "output_type": "stream",
     "text": [
      "Number 11  is not divisible by 3\n",
      "Number 23  is not divisible by 3\n",
      "Number  3 is divisible by 3\n",
      "Number 4  is not divisible by 3\n",
      "Number  24 is divisible by 3\n",
      "Number 2  is not divisible by 3\n",
      "Number  42 is divisible by 3\n",
      "Number 455  is not divisible by 3\n",
      "Number  54 is divisible by 3\n",
      "Number 32  is not divisible by 3\n",
      "Number  45 is divisible by 3\n",
      "Number 56  is not divisible by 3\n",
      "Number 65  is not divisible by 3\n",
      "Number 76  is not divisible by 3\n",
      "Number  57 is divisible by 3\n",
      "Number 34  is not divisible by 3\n",
      "Number 4  is not divisible by 3\n",
      "Number 4.3  is not divisible by 3\n",
      "Number 24.5  is not divisible by 3\n",
      "Number 25.2  is not divisible by 3\n",
      "Number 2435  is not divisible by 3\n",
      "Number 35  is not divisible by 3\n",
      "Number 290  is not divisible by 3\n",
      "Number 344  is not divisible by 3\n",
      "Number 43  is not divisible by 3\n"
     ]
    }
   ],
   "source": [
    "#6 \n",
    "l = [11,23,3,4,24,2,42,455,54,32,45,56,65,76,57,34,4,4.3,24.5,25.2,2435,35,290,344,43]\n",
    "len(l)\n",
    "for i in l:\n",
    "    if i%3==0 :\n",
    "        print(\"Number \" ,i, \"is divisible by 3\")\n",
    "    else :\n",
    "         print(\"Number\" ,i ,\" is not divisible by 3\")\n"
   ]
  },
  {
   "cell_type": "code",
   "execution_count": 21,
   "id": "447b7331-9ff8-4c90-b22a-f935579840c6",
   "metadata": {},
   "outputs": [],
   "source": [
    "#7\n",
    "'''Answer 7 \n",
    "Mutable data type  are those that allow you to change their value or \n",
    "data in place without affecting the object's identity. In contrast, immutable data type don't allow this kind of operation\n",
    "list,dictionary ,set are mutable data type and Tuple,string ,number are immutable datatype  '''\n",
    "#list \n",
    "l = [35,53,'sachin',True,242.3]"
   ]
  },
  {
   "cell_type": "code",
   "execution_count": 23,
   "id": "8f380d8a-a2c9-448d-8e34-1beff10818f1",
   "metadata": {},
   "outputs": [
    {
     "data": {
      "text/plain": [
       "list"
      ]
     },
     "execution_count": 23,
     "metadata": {},
     "output_type": "execute_result"
    }
   ],
   "source": [
    "type(l)"
   ]
  },
  {
   "cell_type": "code",
   "execution_count": 26,
   "id": "03d5e2cd-7bf3-49c8-962e-8e224b7ff6a9",
   "metadata": {},
   "outputs": [
    {
     "data": {
      "text/plain": [
       "'sachin'"
      ]
     },
     "execution_count": 26,
     "metadata": {},
     "output_type": "execute_result"
    }
   ],
   "source": [
    "l[2]"
   ]
  },
  {
   "cell_type": "code",
   "execution_count": 29,
   "id": "c55fb94a-3956-4dce-812b-1e9e6deb72ed",
   "metadata": {},
   "outputs": [
    {
     "data": {
      "text/plain": [
       "'ramesh'"
      ]
     },
     "execution_count": 29,
     "metadata": {},
     "output_type": "execute_result"
    }
   ],
   "source": [
    "l[2] = 'ramesh'\n",
    "l[2]"
   ]
  },
  {
   "cell_type": "code",
   "execution_count": 30,
   "id": "42337392-8d01-4581-b96e-06f3d0821690",
   "metadata": {},
   "outputs": [],
   "source": [
    "#so it is mutable "
   ]
  },
  {
   "cell_type": "code",
   "execution_count": 32,
   "id": "4ee6f5b2-207e-4abd-a914-d00a24474f12",
   "metadata": {},
   "outputs": [
    {
     "data": {
      "text/plain": [
       "tuple"
      ]
     },
     "execution_count": 32,
     "metadata": {},
     "output_type": "execute_result"
    }
   ],
   "source": [
    "t =(32.3,33,54,'raj')\n",
    "type(t)"
   ]
  },
  {
   "cell_type": "code",
   "execution_count": 34,
   "id": "3ccf285a-1b87-43e1-a4c4-992eff815de4",
   "metadata": {},
   "outputs": [
    {
     "data": {
      "text/plain": [
       "54"
      ]
     },
     "execution_count": 34,
     "metadata": {},
     "output_type": "execute_result"
    }
   ],
   "source": [
    "t[2]"
   ]
  },
  {
   "cell_type": "code",
   "execution_count": 35,
   "id": "b1904e80-cbc4-48bf-9e34-e4d1bbb28a77",
   "metadata": {},
   "outputs": [
    {
     "ename": "TypeError",
     "evalue": "'tuple' object does not support item assignment",
     "output_type": "error",
     "traceback": [
      "\u001b[0;31m---------------------------------------------------------------------------\u001b[0m",
      "\u001b[0;31mTypeError\u001b[0m                                 Traceback (most recent call last)",
      "Cell \u001b[0;32mIn[35], line 1\u001b[0m\n\u001b[0;32m----> 1\u001b[0m \u001b[43mt\u001b[49m\u001b[43m[\u001b[49m\u001b[38;5;241;43m2\u001b[39;49m\u001b[43m]\u001b[49m \u001b[38;5;241m=\u001b[39m\u001b[38;5;241m324\u001b[39m\n\u001b[1;32m      2\u001b[0m t[\u001b[38;5;241m2\u001b[39m]\n",
      "\u001b[0;31mTypeError\u001b[0m: 'tuple' object does not support item assignment"
     ]
    }
   ],
   "source": [
    "t[2] =324\n",
    "t[2]"
   ]
  },
  {
   "cell_type": "code",
   "execution_count": 36,
   "id": "462c54ac-01bc-4a2c-b2df-e8590c10acdc",
   "metadata": {},
   "outputs": [],
   "source": [
    "# tuple is not mutable "
   ]
  },
  {
   "cell_type": "code",
   "execution_count": 65,
   "id": "069facd1-9e41-4044-a36a-3ce0ec915cd6",
   "metadata": {},
   "outputs": [
    {
     "name": "stdin",
     "output_type": "stream",
     "text": [
      "Enter number A:  25\n",
      "Enter number B:  5\n"
     ]
    },
    {
     "name": "stdout",
     "output_type": "stream",
     "text": [
      "Number A is divisible by B, and it can be divided  2 times.\n"
     ]
    }
   ],
   "source": [
    "#5\n",
    "A = int(input(\"Enter number A: \"))\n",
    "B = int(input(\"Enter number B: \"))\n",
    "\n",
    "count = 0\n",
    "\n",
    "while A % B == 0:\n",
    "    A = A / B\n",
    "    count += 1\n",
    "\n",
    "if count > 0:\n",
    "    print(f\"Number A is divisible by B, and it can be divided \",count,\"times.\")\n",
    "else:\n",
    "    print(\"Number A is not divisible by B.\")\n"
   ]
  }
 ],
 "metadata": {
  "kernelspec": {
   "display_name": "Python 3 (ipykernel)",
   "language": "python",
   "name": "python3"
  },
  "language_info": {
   "codemirror_mode": {
    "name": "ipython",
    "version": 3
   },
   "file_extension": ".py",
   "mimetype": "text/x-python",
   "name": "python",
   "nbconvert_exporter": "python",
   "pygments_lexer": "ipython3",
   "version": "3.10.8"
  }
 },
 "nbformat": 4,
 "nbformat_minor": 5
}
